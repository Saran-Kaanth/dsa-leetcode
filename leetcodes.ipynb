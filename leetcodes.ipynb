{
 "cells": [
  {
   "cell_type": "markdown",
   "metadata": {},
   "source": [
    "# Leetcode problems"
   ]
  },
  {
   "cell_type": "markdown",
   "metadata": {},
   "source": [
    "## Reversing Integers"
   ]
  },
  {
   "cell_type": "code",
   "execution_count": null,
   "metadata": {},
   "outputs": [
    {
     "name": "stdout",
     "output_type": "stream",
     "text": [
      "21\n"
     ]
    }
   ],
   "source": [
    "x=120\n",
    "\n",
    "temp=0\n",
    "while x>0:\n",
    "    temp=(temp*10)+(x%10)\n",
    "    x=x//10\n",
    "\n",
    "print(temp)"
   ]
  },
  {
   "cell_type": "code",
   "execution_count": null,
   "metadata": {},
   "outputs": [
    {
     "name": "stdout",
     "output_type": "stream",
     "text": [
      "True\n"
     ]
    }
   ],
   "source": [
    "def is_exceeding_32bit(num):\n",
    "    INT32_MIN = -2**31  # -2147483648\n",
    "    INT32_MAX = 2**31 - 1  # 2147483647\n",
    "    \n",
    "    return num < INT32_MIN or num > INT32_MAX\n",
    "\n",
    "# Example usage\n",
    "num = 1534236469\n",
    "num=9646324351\n",
    "print(is_exceeding_32bit(num))  # Output: False (within 32-bit range)\n"
   ]
  },
  {
   "cell_type": "code",
   "execution_count": null,
   "metadata": {},
   "outputs": [
    {
     "name": "stdout",
     "output_type": "stream",
     "text": [
      "0\n"
     ]
    }
   ],
   "source": [
    "def reverse( x: int) -> int:\n",
    "    INT32_MIN = -2**31  # -2147483648\n",
    "    INT32_MAX = 2**31 - 1 \n",
    "\n",
    "    if x<INT32_MIN and x>INT32_MAX:\n",
    "        neg=False\n",
    "        if x<0:\n",
    "            neg=True\n",
    "            x=abs(x)\n",
    "        temp=0\n",
    "        while x>0:\n",
    "            temp=(temp*10)+(x%10)\n",
    "            x=x//10\n",
    "        if neg: return -temp\n",
    "        return temp\n",
    "    return 0\n",
    "\n",
    "num = 1534236469\n",
    "print(reverse(num))\n",
    "\n",
    "        "
   ]
  },
  {
   "cell_type": "markdown",
   "metadata": {},
   "source": [
    "## Median of two sorted arrays"
   ]
  },
  {
   "cell_type": "code",
   "execution_count": null,
   "metadata": {},
   "outputs": [
    {
     "name": "stdout",
     "output_type": "stream",
     "text": [
      "2.5\n"
     ]
    }
   ],
   "source": [
    "def findMedianSortedArrays(nums1, nums2) -> float:\n",
    "        merged_array=[]\n",
    "        lp=rp=0\n",
    "\n",
    "        while lp<len(nums1) and (rp<len(nums2)):\n",
    "            if nums1[lp]<nums2[rp]:\n",
    "                merged_array.append(nums1[lp])\n",
    "                lp+=1\n",
    "            else:\n",
    "                merged_array.append(nums2[rp])\n",
    "                rp+=1\n",
    "        \n",
    "        while lp<len(nums1):\n",
    "            merged_array.append(nums1[lp])\n",
    "            lp+=1\n",
    "        while rp<len(nums2):\n",
    "            merged_array.append(nums2[rp])\n",
    "            rp+=1\n",
    "        \n",
    "        middle=len(merged_array)//2\n",
    "        if len(merged_array)%2==0:\n",
    "             median=(merged_array[middle-1]+merged_array[middle])/2\n",
    "        else:\n",
    "             median=merged_array[middle]\n",
    "        \n",
    "        \n",
    "        return float(median)\n",
    "\n",
    "num1=[1,2]\n",
    "num2=[3,4]\n",
    "\n",
    "print(findMedianSortedArrays(num1,num2))\n"
   ]
  }
 ],
 "metadata": {
  "kernelspec": {
   "display_name": "Python 3",
   "language": "python",
   "name": "python3"
  },
  "language_info": {
   "name": "python",
   "version": "3.12.2"
  }
 },
 "nbformat": 4,
 "nbformat_minor": 2
}
