{
 "cells": [
  {
   "cell_type": "markdown",
   "metadata": {},
   "source": [
    "# DSA Codes"
   ]
  },
  {
   "cell_type": "markdown",
   "metadata": {},
   "source": [
    "## Bubble Sort"
   ]
  },
  {
   "cell_type": "code",
   "execution_count": 4,
   "metadata": {},
   "outputs": [
    {
     "name": "stdout",
     "output_type": "stream",
     "text": [
      "[1, 2, 2, 3, 4, 10]\n"
     ]
    }
   ],
   "source": [
    "arr=[1,4,2,10,3,2]\n",
    "not_sorted=True\n",
    "\n",
    "while not_sorted:\n",
    "    is_sorted=True\n",
    "    for idx in range(0,len(arr)-1):\n",
    "        if arr[idx]>arr[idx+1]:\n",
    "            arr[idx],arr[idx+1]=arr[idx+1],arr[idx]\n",
    "            is_sorted=False\n",
    "    \n",
    "    if is_sorted:\n",
    "        not_sorted=False\n",
    "print(arr)\n",
    "\n"
   ]
  },
  {
   "cell_type": "markdown",
   "metadata": {},
   "source": [
    "## Selection Sort"
   ]
  },
  {
   "cell_type": "code",
   "execution_count": 29,
   "metadata": {},
   "outputs": [
    {
     "name": "stdout",
     "output_type": "stream",
     "text": [
      "[1, 2, 2, 2, 3, 4, 5, 7, 10]\n"
     ]
    }
   ],
   "source": [
    "arr=[1,4,2,10,5,7,2,3,2]\n",
    "\n",
    "for i in range(0, len(arr)-1):\n",
    "    min_idx=i\n",
    "    for j in range(i+1,len(arr)):\n",
    "        if arr[j]<arr[min_idx]:  \n",
    "            min_idx=j\n",
    "    \n",
    "    if min_idx!=i:\n",
    "        arr[i],arr[min_idx]=arr[min_idx],arr[i]\n",
    "\n",
    "print(arr)"
   ]
  },
  {
   "cell_type": "markdown",
   "metadata": {},
   "source": [
    "## Insertion Sort"
   ]
  },
  {
   "cell_type": "code",
   "execution_count": 65,
   "metadata": {},
   "outputs": [
    {
     "name": "stdout",
     "output_type": "stream",
     "text": [
      "[1, 2, 3, 5, 5, 6, 7]\n"
     ]
    }
   ],
   "source": [
    "arr=[3,7,2,5,1,6,5]\n",
    "\n",
    "for i in range(1,len(arr)):\n",
    "    curr=arr[i]\n",
    "    j=i-1\n",
    "\n",
    "    while j>=0 and curr<arr[j]:\n",
    "        arr[j+1] = arr[j]\n",
    "        j-=1    \n",
    "    \n",
    "    arr[j+1]=curr\n",
    "\n",
    "print(arr)"
   ]
  },
  {
   "cell_type": "markdown",
   "metadata": {},
   "source": [
    "## Merge Sort"
   ]
  },
  {
   "cell_type": "code",
   "execution_count": 60,
   "metadata": {},
   "outputs": [
    {
     "name": "stdout",
     "output_type": "stream",
     "text": [
      "[7, 5, 2, 3, 4, 2, 6, 10, 0, 23, 88, 14]\n",
      "[0, 2, 2, 3, 4, 5, 6, 7, 10, 14, 23, 88]\n"
     ]
    }
   ],
   "source": [
    "def merge_sort(arr):\n",
    "    length = len(arr)\n",
    "\n",
    "    # Base case: If the array has more than 1 element, we need to split it\n",
    "    if length > 1:\n",
    "        # Splitting phase: Find the middle point to split the array\n",
    "        middle = length // 2\n",
    "        left = arr[:middle]   # Left half of the array\n",
    "        right = arr[middle:]  # Right half of the array\n",
    "\n",
    "        # Recursively apply merge sort to both halves\n",
    "        merge_sort(left)\n",
    "        merge_sort(right)\n",
    "\n",
    "        # Initializing pointers for left half, right half, and merged array\n",
    "        lfp = rgp = mip = 0\n",
    "\n",
    "        # Sorting phase: Compare elements of left and right halves, and merge them\n",
    "        while lfp < len(left) and rgp < len(right):\n",
    "            if left[lfp] < right[rgp]:  # If left element is smaller\n",
    "                arr[mip] = left[lfp]    # Place it in the main array\n",
    "                lfp += 1                # Move the pointer for the left half\n",
    "            else:                       # If right element is smaller\n",
    "                arr[mip] = right[rgp]   # Place it in the main array\n",
    "                rgp += 1                # Move the pointer for the right half\n",
    "            mip += 1                    # Move the pointer for the merged array\n",
    "\n",
    "        # Merging phase: Copy any remaining elements from the left half (if any)\n",
    "        while lfp < len(left):\n",
    "            arr[mip] = left[lfp]\n",
    "            lfp += 1\n",
    "            mip += 1\n",
    "        \n",
    "        # Merging phase: Copy any remaining elements from the right half (if any)\n",
    "        while rgp < len(right):\n",
    "            arr[mip] = right[rgp]\n",
    "            rgp += 1\n",
    "            mip += 1\n",
    "    \n",
    "arr=[7,5,2,3,4,2,6,10,0,23,88,14]\n",
    "print(arr)\n",
    "merge_sort(arr)\n",
    "print(arr)"
   ]
  },
  {
   "cell_type": "markdown",
   "metadata": {},
   "source": [
    "## Quick Sort"
   ]
  },
  {
   "cell_type": "code",
   "execution_count": 82,
   "metadata": {},
   "outputs": [
    {
     "name": "stdout",
     "output_type": "stream",
     "text": [
      "Before sorting:  [7, 5, 2, 3, 4, 2, 6, 10, 0, 23, 88, 14]\n",
      "After sorting:  [0, 2, 2, 3, 4, 5, 6, 7, 10, 14, 23, 88]\n"
     ]
    }
   ],
   "source": [
    "import random\n",
    "\n",
    "def quick_sort(arr):\n",
    "    # Base case: If the array has 1 or 0 elements, it is already sorted\n",
    "    # Uncommenting this block would make the code more explicit\n",
    "    # if len(arr) <= 1:\n",
    "    #     return arr\n",
    "\n",
    "    # If the array has more than 1 element, we perform the quick sort\n",
    "    if len(arr) > 1:\n",
    "        # Step 1: Select a pivot element randomly from the array\n",
    "        pivot = random.choice(arr)\n",
    "\n",
    "        # Step 2: Create three sub-arrays:\n",
    "        left = []    # Will contain elements less than the pivot\n",
    "        right = []   # Will contain elements greater than the pivot\n",
    "        middle = []  # Will contain elements equal to the pivot\n",
    "\n",
    "        # Step 3: Partition the array into left, right, and middle sub-arrays\n",
    "        for i in range(len(arr)):\n",
    "            if arr[i] < pivot:\n",
    "                left.append(arr[i])     # Add to the 'left' array\n",
    "            elif arr[i] > pivot:\n",
    "                right.append(arr[i])    # Add to the 'right' array\n",
    "            elif arr[i] == pivot:\n",
    "                middle.append(arr[i])   # Add to the 'middle' array\n",
    "        \n",
    "        # Step 4: Recursively apply quick sort to the left and right sub-arrays\n",
    "        # and then concatenate the sorted left array, middle array, and sorted right array\n",
    "        return quick_sort(left) + middle + quick_sort(right)\n",
    "\n",
    "    # Base case: If the array has 0 or 1 element, return it as it is already sorted\n",
    "    return arr\n",
    "\n",
    "arr=[7,5,2,3,4,2,6,10,0,23,88,14]\n",
    "print(\"Before sorting: \",arr)\n",
    "print(\"After sorting: \",quick_sort(arr))"
   ]
  }
 ],
 "metadata": {
  "kernelspec": {
   "display_name": "Python 3",
   "language": "python",
   "name": "python3"
  },
  "language_info": {
   "codemirror_mode": {
    "name": "ipython",
    "version": 3
   },
   "file_extension": ".py",
   "mimetype": "text/x-python",
   "name": "python",
   "nbconvert_exporter": "python",
   "pygments_lexer": "ipython3",
   "version": "3.12.2"
  }
 },
 "nbformat": 4,
 "nbformat_minor": 2
}
